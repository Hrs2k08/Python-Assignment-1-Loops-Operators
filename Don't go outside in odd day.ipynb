{
 "cells": [
  {
   "cell_type": "code",
   "execution_count": 13,
   "id": "9d4bea2d",
   "metadata": {},
   "outputs": [
    {
     "name": "stdout",
     "output_type": "stream",
     "text": [
      "Number of even numbers: 3\n",
      "Number of odd numbers: 5\n"
     ]
    }
   ],
   "source": [
    "#Write a python program to count the number of even and odd numbers from a series of number\n",
    "\n",
    "numbers=(12,15,19,23,29,35,38,42)\n",
    "\n",
    "even_count=0                #Even count\n",
    "odd_count=0                 #Odd count\n",
    "for x in numbers:           #Modulus checks for the remainder \n",
    "    if x % 2==0:            #If condition is satisfied, increase even count or increase odd count     \n",
    "        even_count+=1\n",
    "    else:\n",
    "        odd_count+=1\n",
    "\n",
    "print(\"Number of even numbers:\",even_count)\n",
    "print(\"Number of odd numbers:\",odd_count)"
   ]
  },
  {
   "cell_type": "code",
   "execution_count": null,
   "id": "728c99eb",
   "metadata": {},
   "outputs": [],
   "source": []
  },
  {
   "cell_type": "code",
   "execution_count": null,
   "id": "6094a74d",
   "metadata": {},
   "outputs": [],
   "source": []
  }
 ],
 "metadata": {
  "kernelspec": {
   "display_name": "Python 3 (ipykernel)",
   "language": "python",
   "name": "python3"
  },
  "language_info": {
   "codemirror_mode": {
    "name": "ipython",
    "version": 3
   },
   "file_extension": ".py",
   "mimetype": "text/x-python",
   "name": "python",
   "nbconvert_exporter": "python",
   "pygments_lexer": "ipython3",
   "version": "3.9.12"
  }
 },
 "nbformat": 4,
 "nbformat_minor": 5
}
